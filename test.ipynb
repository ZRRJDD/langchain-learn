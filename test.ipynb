{
 "cells": [
  {
   "cell_type": "code",
   "execution_count": 1,
   "metadata": {},
   "outputs": [],
   "source": [
    "from dotenv import load_dotenv\n",
    "import os\n",
    "\n",
    "# 加载.env\n",
    "load_dotenv('.env')\n",
    "# 配置openai api key\n",
    "os.environ['OPENAI_API_KEY'] = os.getenv('OPENAI_API_KEY')"
   ]
  },
  {
   "cell_type": "code",
   "execution_count": 2,
   "metadata": {},
   "outputs": [],
   "source": [
    "\n",
    "from langchain.llms import OpenAI\n",
    "import json"
   ]
  },
  {
   "cell_type": "code",
   "execution_count": 3,
   "metadata": {},
   "outputs": [],
   "source": [
    "llm = OpenAI(temperature=0)"
   ]
  },
  {
   "cell_type": "code",
   "execution_count": 4,
   "metadata": {},
   "outputs": [],
   "source": [
    "def test(qus):\n",
    "    qusTemp = \"\"\"\n",
    "    请对<text></text>中的内容，提炼出以下内容：\n",
    "    - 要查询的指标(指标代码，指标名称，指标来源)\n",
    "    - 时间范围\n",
    "    - 指标计算\n",
    "    - 绘图要求\n",
    "\n",
    "    注意：对计算后的指标不需要归类到指标中；指标代码必须是数字或英文字母开头；指标来源可选值为：（WIND,CEIC,MACROBOND,BLOOMBERG）\n",
    "    将你的响应格式化为以 'indicator','time_range','indicator_calculation'和'plotting'为键的 JSON字符串。\n",
    "    如果信息不存在，请使用 'None' 作为值;如果指标有多个，以数组方式作为值。\n",
    "\n",
    "    响应的JSON字符串结构如下：\n",
    "    {\n",
    "    \"indicator\": [\n",
    "        {\n",
    "        \"code\": \"None\", # 指标代码\n",
    "        \"name\": \"陆股通当日买入成交净额\", # 指标名称\n",
    "        \"source\": \"WIND\" # 指标来源\n",
    "        },\n",
    "        ...\n",
    "    ],\n",
    "    \"time_range\": \"2015年以来\", #默认值为None\n",
    "    \"indicator_calculation\": [\n",
    "        {\n",
    "        \"indicator\":\"陆股通当日买入成交净额\",\n",
    "        \"calculation\": \"7日移动平均\"\n",
    "        },\n",
    "        ...\n",
    "    ],\n",
    "    \"plotting\": [\n",
    "        {\n",
    "        \"indicator\": \"陆股通当日买入成交净额\",\n",
    "        \"type\": \"柱状图\",  # 默认值为 折线图\n",
    "        \"axis\": \"左轴\" # 默认值为None\n",
    "        }\n",
    "        ...\n",
    "    ]\n",
    "    }\n",
    "    <text>\n",
    "    #qus#\n",
    "    </text>\n",
    "    \"\"\".strip().replace(\"#qus#\",qus)\n",
    "    result = llm(prompt=qusTemp)\n",
    "    \n",
    "    print(result)"
   ]
  },
  {
   "cell_type": "code",
   "execution_count": 5,
   "metadata": {},
   "outputs": [
    {
     "name": "stdout",
     "output_type": "stream",
     "text": [
      "\n",
      "\n",
      "{\n",
      "    \"indicator\": [\n",
      "        {\n",
      "        \"code\": \"None\",\n",
      "        \"name\": \"陆股通当日买入成交净额\",\n",
      "        \"source\": \"WIND\"\n",
      "        },\n",
      "        {\n",
      "        \"code\": \"None\",\n",
      "        \"name\": \"美国10年期国债收益率\",\n",
      "        \"source\": \"WIND\"\n",
      "        }\n",
      "    ],\n",
      "    \"time_range\": \"None\",\n",
      "    \"indicator_calculation\": [\n",
      "        {\n",
      "        \"indicator\":\"陆股通当日买入成交净额\",\n",
      "        \"calculation\": \"7日移动平均\"\n",
      "        }\n",
      "    ],\n",
      "    \"plotting\": [\n",
      "        {\n",
      "        \"indicator\": \"陆股通当日买入成交净额\",\n",
      "        \"type\": \"柱状\n"
     ]
    }
   ],
   "source": [
    "test('陆股通当日买入成交净额，计算7日移动平均，按照柱状图在左轴显示；美国10年期国债收益率，按照折现图在右轴显示')"
   ]
  },
  {
   "cell_type": "code",
   "execution_count": 8,
   "metadata": {},
   "outputs": [
    {
     "name": "stdout",
     "output_type": "stream",
     "text": [
      "\n",
      "    {\n",
      "    \"indicator\": [\n",
      "        {\n",
      "        \"code\": \"M0329532\", # 指标代码\n",
      "        \"name\": \"陆股通当日买入成交净额\", # 指标名称\n",
      "        \"source\": \"WIND\" # 指标来源\n",
      "        },\n",
      "        {\n",
      "        \"code\": \"None\", # 指标代码\n",
      "        \"name\": \"美国10年期国债收益率\", # 指标名称\n",
      "        \"source\": \"None\" # 指标来源\n",
      "        }\n",
      "    ],\n",
      "    \"time_range\": \"2015年以来\",\n",
      "    \"indicator_calculation\": [\n",
      "        {\n",
      "        \"indicator\":\"陆股通当日买入成交净额\",\n",
      "        \"calculation\": \"7\n"
     ]
    }
   ],
   "source": [
    "test('2015年以来的M0329532 陆股通当日买入成交净额 wind，计算7日移动平均，按照柱状图在左轴显示；美国10年期国债收益率，计算累计求和，按照折现图在右轴显示')"
   ]
  },
  {
   "cell_type": "code",
   "execution_count": null,
   "metadata": {},
   "outputs": [],
   "source": []
  },
  {
   "cell_type": "code",
   "execution_count": null,
   "metadata": {},
   "outputs": [],
   "source": []
  }
 ],
 "metadata": {
  "kernelspec": {
   "display_name": "base",
   "language": "python",
   "name": "python3"
  },
  "language_info": {
   "codemirror_mode": {
    "name": "ipython",
    "version": 3
   },
   "file_extension": ".py",
   "mimetype": "text/x-python",
   "name": "python",
   "nbconvert_exporter": "python",
   "pygments_lexer": "ipython3",
   "version": "3.9.16"
  },
  "orig_nbformat": 4
 },
 "nbformat": 4,
 "nbformat_minor": 2
}
