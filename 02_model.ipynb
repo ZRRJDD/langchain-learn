{
 "cells": [
  {
   "attachments": {},
   "cell_type": "markdown",
   "metadata": {},
   "source": [
    "# 环境配置"
   ]
  },
  {
   "cell_type": "code",
   "execution_count": 3,
   "metadata": {},
   "outputs": [],
   "source": [
    "from dotenv import load_dotenv\n",
    "import os\n",
    "\n",
    "# 加载.env\n",
    "load_dotenv('.env')\n",
    "# 配置openai api key\n",
    "os.environ['OPENAI_API_KEY'] = os.getenv('OPENAI_API_KEY')"
   ]
  },
  {
   "cell_type": "code",
   "execution_count": 11,
   "metadata": {},
   "outputs": [],
   "source": [
    "from langchain.llms import OpenAI\n",
    "from langchain.chat_models import ChatOpenAI\n",
    "from langchain.schema import HumanMessage"
   ]
  },
  {
   "cell_type": "code",
   "execution_count": 8,
   "metadata": {},
   "outputs": [],
   "source": [
    "llm = OpenAI()\n",
    "chat_model = ChatOpenAI()"
   ]
  },
  {
   "cell_type": "code",
   "execution_count": 9,
   "metadata": {},
   "outputs": [
    {
     "data": {
      "text/plain": [
       "'！\\n\\n你好！很高兴见到你！'"
      ]
     },
     "execution_count": 9,
     "metadata": {},
     "output_type": "execute_result"
    }
   ],
   "source": [
    "llm('你好')"
   ]
  },
  {
   "cell_type": "code",
   "execution_count": 12,
   "metadata": {},
   "outputs": [
    {
     "data": {
      "text/plain": [
       "AIMessage(content='你好！有什么我可以帮助你的吗？', additional_kwargs={}, example=False)"
      ]
     },
     "execution_count": 12,
     "metadata": {},
     "output_type": "execute_result"
    }
   ],
   "source": [
    "chat_model(messages=[HumanMessage(content=\"你好\")])"
   ]
  },
  {
   "attachments": {},
   "cell_type": "markdown",
   "metadata": {},
   "source": [
    "# LLMs"
   ]
  },
  {
   "cell_type": "code",
   "execution_count": 13,
   "metadata": {},
   "outputs": [],
   "source": [
    " from langchain.llms import OpenAI"
   ]
  },
  {
   "cell_type": "code",
   "execution_count": 16,
   "metadata": {},
   "outputs": [],
   "source": [
    "llm = OpenAI(model_name=\"text-ada-001\",n=2,best_of=2)"
   ]
  },
  {
   "cell_type": "code",
   "execution_count": 17,
   "metadata": {},
   "outputs": [
    {
     "data": {
      "text/plain": [
       "'\\n\\n一个夕高,一个日,一个二点八十分,那天一上'"
      ]
     },
     "execution_count": 17,
     "metadata": {},
     "output_type": "execute_result"
    }
   ],
   "source": [
    "llm(\"给我讲个笑话\")"
   ]
  },
  {
   "attachments": {},
   "cell_type": "markdown",
   "metadata": {},
   "source": [
    "Generate: More broadly, you can call it with a list of inputs, getting back a more complete response than just the text. This complete response includes things like multiple top responses, as well as LLM provider specific information\n",
    "\n",
    "生成：更广泛地说，您可以使用输入列表调用它，获得比仅文本更完整的响应。这个完整的响应包括多个顶级响应以及LLM提供者特定信息。"
   ]
  },
  {
   "cell_type": "code",
   "execution_count": 28,
   "metadata": {},
   "outputs": [
    {
     "data": {
      "text/plain": [
       "LLMResult(generations=[[Generation(text='\\n\\nWhy did the chicken cross the road?\\n\\nTo get to the other side.', generation_info={'finish_reason': 'stop', 'logprobs': None}), Generation(text='\\n\\nWhy did the chicken cross the road?\\n\\nTo get to the other side!', generation_info={'finish_reason': 'stop', 'logprobs': None})], [Generation(text=\"\\n\\nThere's no one way to be\\n\\nThere's no one way to be\\n\\nThere's no one way to be\\n\\nThere's just me,\\n\\nAnd you, and you, and I,\\n\\nAnd no one way to be\\n\\nThere's no one way to be\\n\\nThere's just me,\\n\\nAnd you, and you, and I,\\n\\nAnd no one way to be\\n\\nThere's just me,\\n\\nAnd you, and you, and I,\\n\\nAnd I think of you\\n\\nWhen I'm feeling down\\n\\n'Cause I'm sure as long\\n\\nAs I'm alive I'll\\n\\nBeicitous of you\\n\\nI can't tell you\\n\\nWhat's wrong\\n\\nI know I should go\\n\\nBut I can't help but think\\n\\nOf you, and I care for you\\n\\nWhen I'm feeling down\\n\\nI know I should go\\n\\nBut I can't help but think\\n\\nOf you, and I care for you\\n\\nWhen I'm feeling down\\n\\nI know I should go\\n\\nBut I can't help but think\\n\\nOf you, and I care for you\", generation_info={'finish_reason': None, 'logprobs': None}), Generation(text=\"\\n\\nThere's no need for words\\n\\nWhen we're with each other\\n\\nWe'll find a way to be so content\\n\\nAnd find a way to be each other's light\\n\\nWe'll find a way to be so content\\n\\nWhen we're together\\n\\nWe'll find a way to be so content\\n\\nAnd find a way to be each other's light\", generation_info={'finish_reason': 'stop', 'logprobs': None})], [Generation(text='\\n\\nWhy did the chicken cross the road?\\n\\nTo get to the other side.', generation_info={'finish_reason': 'stop', 'logprobs': None}), Generation(text='\\n\\nWhy did the chicken cross the road?\\n\\nTo get to the other side.', generation_info={'finish_reason': 'stop', 'logprobs': None})], [Generation(text=\"\\n\\nHow can I love\\nI have never seen\\nIn my life\\nI feel like I'm in love\\nWith you\\nI think love is strong\\nAnd it can be Trafford\\nI think love is strong\\nAnd it can be Trafford\\n\\nWe all have ways of expressing\\nOur feelings\\nWe all have ways of how we feel\\nWe all have ways of how we think\\n\\nIt's all about making it work\\nYou're the one\\nYou're the one\\nYou're the one\\n\\nI think love is strong\\nAnd it can be Trafford\\nI think love is strong\\nAnd it can be Trafford\\nI think love is strong\\nAnd it can be Trafford\\nWe all have ways of expressing\\nOur feelings\\nWe all have ways of how we feel\\nWe all have ways of how we think\", generation_info={'finish_reason': None, 'logprobs': None}), Generation(text='\\n\\nI can\\'t pick a love poem\\n\\nI choose \"The Defeated Wave\"\\n\\nThe love story of a man and a woman,\\n\\nWho finally lose each other,\\n\\nIn a moment ofenbergation\\n\\nBut eventually find each other again\\n\\nIn a place where love is once again\\n\\nA powerful force, and always together\\n\\nA2 The Defeated Wave\\n\\nA love story told by two people,\\n\\nWho finally lose each other,\\n\\nIn a moment of despair and Vide\\n\\nBut eventually find each other again\\n\\nIn a place where love is once again\\n\\nA powerful force, and always together\\n\\nA2 The Defeated Wave', generation_info={'finish_reason': 'stop', 'logprobs': None})], [Generation(text='\\n\\nWhy did the chicken cross the road?\\n\\nTo get to the other side.', generation_info={'finish_reason': 'stop', 'logprobs': None}), Generation(text='\\n\\nWhy did the chicken cross the road?\\n\\nTo get to the other side!', generation_info={'finish_reason': 'stop', 'logprobs': None})], [Generation(text='\\n\\nWhen I was younger\\nI thought that love\\nI was something like a fairytale\\nI would find my prince and they would be my people\\nI was naïve\\nI thought that love\\nwas something like a fairytale\\n\\nNow I know that love\\nIs something that should be sought\\nAnd that love is something that should be shared\\n\\nWith someone that I care for\\nAnd that love\\nIs something that should be cherished\\nAnd that love\\nIs something that should be valued\\n\\nNow I know that love\\nIs something that should be earned', generation_info={'finish_reason': 'stop', 'logprobs': None}), Generation(text=\"\\n\\nIn the eyes of the moon\\n\\nI have seen a face\\n\\nThat I will never forget.\\n\\nIts beauty is so divine\\n\\nI can't imagine life without it.\\n\\n Its 1,000 calories per hour\\n\\nThe thoughts that she brings to my mind\\n\\nI can't help but smile\\n\\nWhen I think about all the things we share.\\n\\nThere's no way that I can help\\n\\nWith all the things that I've been through\\n\\nBut I know that I will always love it.\", generation_info={'finish_reason': None, 'logprobs': None})], [Generation(text='\\n\\nWhy did the chicken cross the road?\\n\\nTo get to the other side!', generation_info={'finish_reason': 'stop', 'logprobs': None}), Generation(text='\\n\\nWhy did the chicken cross the road?\\n\\nTo get to the other side.', generation_info={'finish_reason': 'stop', 'logprobs': None})], [Generation(text=\"\\n\\nA rose by the side of the road\\n\\nIs all I need to find my way\\n\\nTo the place I've been searching for\\n\\nAnd my heart is singing with joy\\n\\nWhen I look at this rose\\n\\nIt reminds me of the love I've found\\n\\nAnd I know that wherever I go\\n\\nI'll always find my rose by the side of the road.\", generation_info={'finish_reason': 'stop', 'logprobs': None}), Generation(text=\"\\n\\nA rose by the side of the road\\n\\nIs all I need to find my way\\n\\nTo the place I've been searching for\\n\\nAnd my heart is singing with joy\\n\\nWhen I look at this rose\\n\\nIt reminds me of the love I've found\\n\\nAnd I know that wherever I go\\n\\nI'll always find my rose by the side of the road.\", generation_info={'finish_reason': 'stop', 'logprobs': None})], [Generation(text='\\n\\nWhy did the chicken cross the road?\\n\\nTo get to the other side!', generation_info={'finish_reason': 'stop', 'logprobs': None}), Generation(text='\\n\\nWhy did the chicken cross the road?\\n\\nTo get to the other side!', generation_info={'finish_reason': 'stop', 'logprobs': None})], [Generation(text=\"\\n\\nHow can love never truly exist\\n\\nWhen everything we love is lost\\n\\nAnd we all justiws that we've ever had\\n\\nA love so strong and so true\\n\\nCan we never really mean it\\n\\nWhen we say our love was created\\n\\nAnd we no longer feel the same\\n\\nThat we once did about each other\\n\\nWe love each other so much more\\n\\nAnd I think that's enough\\n\\nFor now, but I'm not sure\\n\\nWhat comes after love\\n\\nIs what we'll never know\\n\\nBut we always will love\\n\\nEach other through everything\\n\\nAnd anything is possible\\n\\nFor us to come together\\n\\nAnd share our love once more\\n\\nOn into the future\\n\\nAnd I am so excited for this\\n\\nI think we can be together\\n\\nAnd love is back\\n\\nAnd it's so strong and true\\n\\nIt's always been with us\\n\\nAnd we'll never forget\\n\\nWhat we have for each other\\n\\nWe are so happy\\n\\nWe have the best life ever\\n\\nHe lives inside of me\\n\\nAnd I think we can be this way\\n\\nWhen we share our love\\n\\nIt always means so much\\n\\n\", generation_info={'finish_reason': 'length', 'logprobs': None}), Generation(text=\"\\n\\nA rose by the side of the road\\n\\nIs all I need to find my way\\n\\nTo the place I've been searching for\\n\\nAnd my heart is singing with joy\\n\\nWhen I look at this rose\\n\\nIt reminds me of the love I've found\\n\\nAnd I know that wherever I go\\n\\nI'll always find my rose by the side of the road.\", generation_info={'finish_reason': 'stop', 'logprobs': None})], [Generation(text='\\n\\nWhy did the chicken cross the road?\\n\\nTo get to the other side.', generation_info={'finish_reason': 'stop', 'logprobs': None}), Generation(text='\\n\\nWhy did the chicken cross the road?\\n\\nTo get to the other side.', generation_info={'finish_reason': 'stop', 'logprobs': None})], [Generation(text=\"\\n\\nThe colors of the sky are so bright\\nAnd the sun is so warm\\nI can't wait to go back\\nTo this beautiful place\\nAnd I can't wait to see\\nThe things we've seen before\\nIn our lifetime we'll see\\n\\nWe'll make it through\\nWe'll make it through\\n\\nWe'll make it through\\n\\nWe'll make it through\\n\\nOur lives are only a game\\nBut we'll make it through\\n\\nOur lives are only a game\\nBut we'll make it through\", generation_info={'finish_reason': 'stop', 'logprobs': None}), Generation(text=\"\\n\\nI read about the\\n\\nGreat white north\\n\\nAnd about the guns\\n\\nOf the' Maddie\\n\\nAnd about the\\n\\n Antarctic\\n\\nAnd about my\\n\\nFirst love\\n\\nAnd about to\\n\\n grow old\\n\\nAnd about the\\n\\nBlessed are the\\n\\nWho shear their\\n\\nHair\\n\\nAnd about the\\n\\n Tears\\n\\nAnd about\\n\\nThe\\n\\nSorrow\\n\\nAnd about\\n\\nThe\\n\\nBlessed are the\\n\\nThat her\\n\\nWorked their\\n\\nHair\\n\\nAnd about\\n\\nThe\\n\\nSorrow\\n\\nAnd about\\n\\nThe\\n\\nBlessed are the\\n\\nThat her\\n\\nWorked their\\n\\nHair\\n\\nAnd about\\n\\nThe\\n\\nSorrow\\n\\nAnd about\\n\\nThe\\n\\nBlessed are the\\n\\nThat she\\n\\nWorked their\\n\\nHair\", generation_info={'finish_reason': 'stop', 'logprobs': None})], [Generation(text='\\n\\nWhy did the chicken cross the road?\\n\\nTo get to the other side.', generation_info={'finish_reason': 'stop', 'logprobs': None}), Generation(text='\\n\\nWhy did the chicken cross the road?\\n\\nTo get to the other side!', generation_info={'finish_reason': 'stop', 'logprobs': None})], [Generation(text='\\n\\nHow could I\\n\\nHow could I\\n\\nWhy did the\\n\\nThe sky have to be\\n\\nThe sky had to be\\n\\nThe sky had to be\\n\\nThe sky had to be\\n\\nWhy did the\\n\\nThe sky had to be\\n\\nThe sky had to be\\n\\nThe sky had to be\\n\\nThe sky had to be\\n\\nWhy did the\\n\\nThe sky had to be\\n\\nThe sky had to be\\n\\nThe sky had to be\\n\\nThe sky had to be\\n\\nWhy did the\\n\\nThe sky had to be\\n\\nThe sky had to be\\n\\nThe sky had to be\\n\\nThe sky had to be\\n\\nWhy did the\\n\\nThe sky had to be\\n\\nThe sky had to be\\n\\nThe sky had to be\\n\\nThe sky had to be\\n\\nWhy did the\\n\\nThe sky had to be\\n\\nThe sky had to be\\n\\nThe sky had to be\\n\\nThe sky had to be\\n\\nWhy did the\\n\\nThe sky had to be\\n\\nThe sky had to be\\n\\nThe sky had to be\\n\\nThe sky had to be\\n\\nWhy did the\\n\\nThe sky had to be\\n\\nThe', generation_info={'finish_reason': 'length', 'logprobs': None}), Generation(text=\"\\n\\nA rose by the side of the road\\n\\nIs all I need to find my way\\n\\nTo the place I've been searching for\\n\\nAnd my heart is singing with joy\\n\\nWhen I look at this rose\\n\\nIt tells me that I've beensearching for a long time\\n\\nAnd it reminds me of the love I've found\\n\\nAnd I can't help but be happy\\n\\nSo I take it as a sign\\n\\nAnd I goodnight, rose by the side of the road\", generation_info={'finish_reason': 'stop', 'logprobs': None})], [Generation(text='\\n\\nWhy did the chicken cross the road?\\n\\nTo get to the other side!', generation_info={'finish_reason': 'stop', 'logprobs': None}), Generation(text='\\n\\nWhy did the chicken cross the road?\\n\\nTo get to the other side.', generation_info={'finish_reason': 'stop', 'logprobs': None})], [Generation(text=\"\\n\\nHow can a little thing like me\\n\\nEver be considered perfect?\\n\\nWhat is it like to know\\n\\nThat you're always there in the dark?\\n\\nHow can a little thing like me\\n\\nEver be considered perfect?\\n\\nIs it always about the money?\\n\\nIs it always about the title?\\n\\nIs it always about the market?\\n\\nIs it always about the sales?\\n\\nIs it always about the credit?\\n\\nIs it always about the book?\\n\\nIs it always about the sales?\\n\\nIs it always about the perfect book?\\n\\nIs it always about being the best?\\n\\nIs it always about making money?\\n\\nIs it always about making sales?\\n\\nIs it always about being the perfect book?\\n\\nIs it always about being the perfect book?\", generation_info={'finish_reason': 'stop', 'logprobs': None}), Generation(text='\\n\\nIn the face of danger\\n\\nWe will fight\\n\\nWith love and light\\n\\nWe will make it through\\n\\nTo the end that we are wanted\\n\\nAnd we will come back to you\\n\\nIn the face of danger\\n\\nWe will fight\\n\\nWith love and light\\n\\nWe will make it through\\n\\nTo the end that we are wanted\\n\\nAnd we will come back to you', generation_info={'finish_reason': 'stop', 'logprobs': None})], [Generation(text='\\n\\nWhy did the chicken cross the road?\\n\\nTo get to the other side.', generation_info={'finish_reason': 'stop', 'logprobs': None}), Generation(text='\\n\\nWhy did the chicken cross the road?\\n\\nTo get to the other side!', generation_info={'finish_reason': 'stop', 'logprobs': None})], [Generation(text=\"\\n\\nA rose by the side of the road\\n\\nIs all I need to find my way\\n\\nTo the place I've been searching for\\n\\nAnd my heart is singing with joy\\n\\nWhen I look at this rose\\n\\nIt reminds me of the love I've found\\n\\nAnd I know that wherever I go\\n\\nI'll always find my rose by the side of the road.\", generation_info={'finish_reason': 'stop', 'logprobs': None}), Generation(text=\"\\n\\nI can't pick a love poem\\n\\nSomebody help me\\n\\nI'm in search of a love poem\\n\\nI want to know what you think\\n\\nI want to know what you think\\n\\nI can't find my way out\\n\\nI can't find my way out\\n\\nI just want to know what you think\\n\\nI want to know what you think\\n\\nOf the love poem I find\\n\\nOf the love poem I find\", generation_info={'finish_reason': None, 'logprobs': None})], [Generation(text='\\n\\nWhy did the chicken cross the road?\\n\\nTo get to the other side.', generation_info={'finish_reason': 'stop', 'logprobs': None}), Generation(text='\\n\\nWhy did the chicken cross the road?\\n\\nTo get to the other side!', generation_info={'finish_reason': 'stop', 'logprobs': None})], [Generation(text=\"\\n\\nThere's no one to turn to\\n\\nOnly the market's honest toil\\n\\nAnd the The Israelites\\n\\nμ’am-tli»»»\\n\\nking, god, and prophets\\n\\n convey to me their wisdom\\n\\nAnd the hosts of God \\n\\nA song for the new century\\n\\nThe opportunity is here\\n\\nTo take us all in\\n\\nThe coming of the just will\\n\\nThe delayed hand of time\\n\\nWe are his, just as we are\\n\\nAnd the poem is over\", generation_info={'finish_reason': 'stop', 'logprobs': None}), Generation(text=\"\\n\\nA rose by the side of the road\\n\\nIs all I need to find my way\\n\\nTo the place I've been searching for\\n\\nAnd my heart is singing with joy\\n\\nWhen I look at this rose\\n\\nIt reminds me of the love I've found\\n\\nAnd I know that wherever I go\\n\\nI'll always find my rose by the side of the road.\", generation_info={'finish_reason': 'stop', 'logprobs': None})], [Generation(text='\\n\\nWhy did the chicken cross the road?\\n\\nTo get to the other side!', generation_info={'finish_reason': 'stop', 'logprobs': None}), Generation(text='\\n\\nWhy did the chicken cross the road?\\n\\nTo get to the other side.', generation_info={'finish_reason': 'stop', 'logprobs': None})], [Generation(text=\"\\n\\nIn the eyes of the moon\\n\\nI have seen a face\\n\\nThat I will never forget.\\n\\nIts beauty is so divine\\n\\nI can't imagine life without it.\\n\\nIts light is so powerful\\n\\nI can't imagine my life\\n\\n WITHOUT it.\", generation_info={'finish_reason': 'stop', 'logprobs': None}), Generation(text=\"\\n\\nIn the eyes of the moon\\n\\nI have seen a face\\n\\nThat I will never forget.\\n\\nIts beauty is so divine\\n\\nI can't imagine life without it.\\n\\nIts pain is real\\n\\nI have felt it more than once.\\n\\nBut its face that I have loved\\n\\nWill be my favorite memory\\n\\nOf the moon.\", generation_info={'finish_reason': 'stop', 'logprobs': None})], [Generation(text='\\n\\nWhy did the chicken cross the road?\\n\\nTo get to the other side!', generation_info={'finish_reason': 'stop', 'logprobs': None}), Generation(text='\\n\\nWhy did the chicken cross the road?\\n\\nTo get to the other side!', generation_info={'finish_reason': 'stop', 'logprobs': None})], [Generation(text='\\n\\nWe are all broken\\n\\nEach piece of us\\n\\nBleeds out in the rain\\n\\nBut we try to mend\\n\\nAnd hope for a better tomorrow.', generation_info={'finish_reason': 'stop', 'logprobs': None}), Generation(text='\\n\\nNo one ever comes\\n\\nto the party you just\\n\\ngot started on.\\n\\nNo one ever comes\\n\\nto the party you just\\n\\ngot started on.', generation_info={'finish_reason': 'stop', 'logprobs': None})], [Generation(text='\\n\\nWhy did the chicken cross the road?\\n\\nTo get to the other side!', generation_info={'finish_reason': 'stop', 'logprobs': None}), Generation(text='\\n\\nWhy did the chicken cross the road?\\n\\nTo get to the other side!', generation_info={'finish_reason': 'stop', 'logprobs': None})], [Generation(text=\"\\n\\nWhen you're gone,\\n\\nI feel like this is my home.\\n\\nI can't wait to see you again,\\n\\nYou always make me feel so welcome.\\n\\nI love the way you laugh,\\n\\nIt makes me feel so good.\\n\\nWhen you're gone,\\n\\nI feel like this is my home.\\n\\nI can't wait to see you again,\\n\\nYou always make me feel so welcome.\", generation_info={'finish_reason': 'stop', 'logprobs': None}), Generation(text=\"\\n\\nHow can a little love be\\n\\nMakes the world go round\\n\\nIn my opinion\\n\\nLove is the only way\\n\\nTo make a way where you're free\\n\\nTo do what you love\\n\\nTo the moon and back\\n\\nLove is the only way\\n\\nTo make a way where you're free\\n\\nTo do what you love\\n\\nTo the moon and back\\n\\nLove is the only way\\n\\nTo make a way where you're free\\n\\nTo do what you love\\n\\nTo the moon and back\", generation_info={'finish_reason': 'stop', 'logprobs': None})], [Generation(text='\\n\\nWhy did the chicken cross the road?\\n\\nTo get to the other side.', generation_info={'finish_reason': 'stop', 'logprobs': None}), Generation(text='\\n\\nWhy did the chicken cross the road?\\n\\nTo get to the other side.', generation_info={'finish_reason': 'stop', 'logprobs': None})], [Generation(text='\\n\\nHow can a little love\\n\\n Conquer everything?\\n\\nHow can it be that so much love\\n\\nIs never enough?', generation_info={'finish_reason': 'stop', 'logprobs': None}), Generation(text='\\n\\nHow do I love\\n\\nHow do I love\\n\\nA lie, a lie,\\n\\nA lie, a lie,\\n\\nA lie, a lie,\\n\\nHow do I love\\n\\nHow do I love\\n\\nA lie, a lie,\\n\\nA lie, a lie,\\n\\nA lie, a lie,\\n\\nHow do I love\\n\\nHow do I love\\n\\nA lie, a lie,\\n\\nA lie, a lie,\\n\\nA lie, a lie,\\n\\nHow do I love\\n\\nHow do I love\\n\\nA lie, a lie,\\n\\nA lie, a lie,\\n\\nA lie, a lie,\\n\\nHow do I love\\n\\nHow do I love\\n\\nA lie, a lie,\\n\\nA lie, a lie,\\n\\nA lie, a lie,\\n\\nHow do I love', generation_info={'finish_reason': 'stop', 'logprobs': None})], [Generation(text='\\n\\nWhy did the chicken cross the road?\\n\\nTo get to the other side.', generation_info={'finish_reason': 'stop', 'logprobs': None}), Generation(text='\\n\\nWhy did the chicken cross the road?\\n\\nTo get to the other side.', generation_info={'finish_reason': 'stop', 'logprobs': None})], [Generation(text=\"\\n\\nThe world is a beautiful place\\nThe colors are so bright and true\\nAnd I feel so free and free\\nWhen I'm away from here\\nThe free world is waiting for me\\nAnd I'm going to enjoy it so much\\nThat I might even move to here\\nI'm so content here\\nAnd I'm so happy\\n\\nThe world is a beautiful place\\nAnd I feel so free and free\\nWhen I'm away from here\\nThe free world is waiting for me\\nAnd I'm going to enjoy it so much\\nThat I might even move to here\\nI'm so content here\", generation_info={'finish_reason': 'stop', 'logprobs': None}), Generation(text=\"\\n\\nA rose by the side of the road\\n\\nIs all I need to find my way\\n\\nTo the place I've been searching for\\n\\nAnd my heart is singing with joy\\n\\nWhen I look at this rose\\n\\nIt reminds me of the love I've found\\n\\nAnd I know that wherever I go\\n\\nI'll always find my rose by the side of the road.\", generation_info={'finish_reason': 'stop', 'logprobs': None})]], llm_output={'token_usage': {'total_tokens': 4202, 'prompt_tokens': 120, 'completion_tokens': 4082}, 'model_name': 'text-ada-001'})"
      ]
     },
     "execution_count": 28,
     "metadata": {},
     "output_type": "execute_result"
    }
   ],
   "source": [
    "llm_result = llm.generate([\"Tell me a joke\", \"Tell me a poem\"]*15)\n",
    "llm_result"
   ]
  },
  {
   "cell_type": "code",
   "execution_count": 29,
   "metadata": {},
   "outputs": [
    {
     "data": {
      "text/plain": [
       "30"
      ]
     },
     "execution_count": 29,
     "metadata": {},
     "output_type": "execute_result"
    }
   ],
   "source": [
    "len(llm_result.generations)"
   ]
  },
  {
   "cell_type": "code",
   "execution_count": 30,
   "metadata": {},
   "outputs": [
    {
     "data": {
      "text/plain": [
       "[Generation(text='\\n\\nWhy did the chicken cross the road?\\n\\nTo get to the other side.', generation_info={'finish_reason': 'stop', 'logprobs': None}),\n",
       " Generation(text='\\n\\nWhy did the chicken cross the road?\\n\\nTo get to the other side!', generation_info={'finish_reason': 'stop', 'logprobs': None})]"
      ]
     },
     "execution_count": 30,
     "metadata": {},
     "output_type": "execute_result"
    }
   ],
   "source": [
    "llm_result.generations[0]"
   ]
  },
  {
   "cell_type": "code",
   "execution_count": 31,
   "metadata": {},
   "outputs": [
    {
     "data": {
      "text/plain": [
       "[Generation(text=\"\\n\\nThe world is a beautiful place\\nThe colors are so bright and true\\nAnd I feel so free and free\\nWhen I'm away from here\\nThe free world is waiting for me\\nAnd I'm going to enjoy it so much\\nThat I might even move to here\\nI'm so content here\\nAnd I'm so happy\\n\\nThe world is a beautiful place\\nAnd I feel so free and free\\nWhen I'm away from here\\nThe free world is waiting for me\\nAnd I'm going to enjoy it so much\\nThat I might even move to here\\nI'm so content here\", generation_info={'finish_reason': 'stop', 'logprobs': None}),\n",
       " Generation(text=\"\\n\\nA rose by the side of the road\\n\\nIs all I need to find my way\\n\\nTo the place I've been searching for\\n\\nAnd my heart is singing with joy\\n\\nWhen I look at this rose\\n\\nIt reminds me of the love I've found\\n\\nAnd I know that wherever I go\\n\\nI'll always find my rose by the side of the road.\", generation_info={'finish_reason': 'stop', 'logprobs': None})]"
      ]
     },
     "execution_count": 31,
     "metadata": {},
     "output_type": "execute_result"
    }
   ],
   "source": [
    "llm_result.generations[-1]"
   ]
  },
  {
   "cell_type": "code",
   "execution_count": 32,
   "metadata": {},
   "outputs": [
    {
     "data": {
      "text/plain": [
       "{'token_usage': {'total_tokens': 4202,\n",
       "  'prompt_tokens': 120,\n",
       "  'completion_tokens': 4082},\n",
       " 'model_name': 'text-ada-001'}"
      ]
     },
     "execution_count": 32,
     "metadata": {},
     "output_type": "execute_result"
    }
   ],
   "source": [
    "llm_result.llm_output"
   ]
  },
  {
   "cell_type": "code",
   "execution_count": 33,
   "metadata": {},
   "outputs": [
    {
     "data": {
      "text/plain": [
       "4"
      ]
     },
     "execution_count": 33,
     "metadata": {},
     "output_type": "execute_result"
    }
   ],
   "source": [
    "llm.get_num_tokens(\"你好\")"
   ]
  },
  {
   "cell_type": "code",
   "execution_count": 34,
   "metadata": {},
   "outputs": [
    {
     "data": {
      "text/plain": [
       "1"
      ]
     },
     "execution_count": 34,
     "metadata": {},
     "output_type": "execute_result"
    }
   ],
   "source": [
    "llm.get_num_tokens(\"hello\")"
   ]
  },
  {
   "cell_type": "code",
   "execution_count": null,
   "metadata": {},
   "outputs": [],
   "source": []
  }
 ],
 "metadata": {
  "kernelspec": {
   "display_name": "python39",
   "language": "python",
   "name": "python3"
  },
  "language_info": {
   "codemirror_mode": {
    "name": "ipython",
    "version": 3
   },
   "file_extension": ".py",
   "mimetype": "text/x-python",
   "name": "python",
   "nbconvert_exporter": "python",
   "pygments_lexer": "ipython3",
   "version": "3.9.0"
  },
  "orig_nbformat": 4
 },
 "nbformat": 4,
 "nbformat_minor": 2
}
